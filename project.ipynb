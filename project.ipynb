{
 "cells": [
  {
   "cell_type": "markdown",
   "metadata": {},
   "source": [
    "<h1 align=center> Project 2: Machine Learning Classifier Credit Model </h1>\n",
    "<center><img src=\"https://oci02.img.iteso.mx/Identidades-De-Instancia/ITESO/Logos%20ITESO/Logo-ITESO-Vertical-SinFondo.png\" width=500 height=400></center>\n",
    "<p align=left> Created by: Emiliano Mena González and Jorge Alberto Hernández Hernández <br>\n",
    "    Degree: Financial Engineer <br>\n",
    "    Semester: 10th <br>\n",
    "    Subject: Credit Models</p> \n"
   ]
  },
  {
   "cell_type": "markdown",
   "metadata": {},
   "source": [
    "<h2 align=left> Introduction </h2>\n",
    "<h3 align=left> Main Objective </h3>\n",
    "<p align=justified> Create a machine learning classifier credit model </p>\n",
    "<h3 align=left> Proccess </h3>\n",
    "<p align=justified> In order to achieve the main objective, they will be compared multiple models to get the one that has the best accuracy. </p>\n",
    "<h2 align=left> Data Description </h2>\n",
    "<p align=justified> The dataset of the credit score is already divided on the train and test samples. The train has 100,000 records and the test 50,000. The variables they have are the next: </p>\n",
    "<ol>\n",
    "  <li>ID</li>\n",
    "  <li>Customer_ID</li>\n",
    "  <li>Month</li>\n",
    "  <li>Name</li>\n",
    "  <li>Age</li>\n",
    "  <li>SSN</li>\n",
    "  <li>Occupation</li>\n",
    "  <li>Annual_Income</li>\n",
    "  <li>Monthly_Inhand_Salary</li>\n",
    "  <li>Num_Bank_Accounts</li>\n",
    "  <li>Num_Credit_Card</li>\n",
    "  <li>Interest_Rate</li>\n",
    "  <li>Num_of_Loan</li>\n",
    "  <li>Type_of_Loan</li>\n",
    "  <li>Delay_from_due_date</li>\n",
    "  <li>Num_of_Delayed_Payment</li>\n",
    "  <li>Changed_Credit_Limit</li>\n",
    "  <li>Num_Credit_Inquiries</li>\n",
    "  <li>Credit_Mix</li>\n",
    "  <li>Outstanding_Debt</li>\n",
    "  <li>Credit_Utilization_Ratio</li>\n",
    "  <li>Credit_History_Age</li>\n",
    "  <li>Payment_of_Min_Amount</li>\n",
    "  <li>Total_EMI_per_month</li>\n",
    "  <li>Amount_invested_monthly</li>\n",
    "  <li>Payment_Behaviour</li>\n",
    "  <li>Monthly_Balance</li>\n",
    "</ol>\n",
    "<p align=justify> From this variables we won´t consider on the model the ID, Customer_ID, Month, Name, Age, SSN, Occupation because they are variables that are used only to describe the customer and they shouldn´t be used to assign a customer a credit score. </p>"
   ]
  },
  {
   "cell_type": "markdown",
   "metadata": {},
   "source": [
    "<h2 align=left> Models creation </h2>\n",
    "<p align=justify> It was decided to prove 6 different classifiers to finally choose the model that was going to be used. This classifiers were: </p>\n",
    "<ol>\n",
    "  <li>Stacking (Decision Tree, Random Forest and Gradient Boosting)</li>\n",
    "  <li>Decision Tree</li>\n",
    "  <li>Gradient Boosting</li>\n",
    "  <li>Random Forest</li>\n",
    "  <li>AdaBoost</li>\n",
    "  <li>Neural Network</li>\n",
    "</ol>"
   ]
  },
  {
   "cell_type": "code",
   "execution_count": 1,
   "metadata": {},
   "outputs": [
    {
     "name": "stderr",
     "output_type": "stream",
     "text": [
      "c:\\Users\\emili\\OneDrive\\Documentos\\Escuela\\10mo Semestre\\Modelos de Crédito\\Project2_ClassifierModel\\venv\\Lib\\site-packages\\sklearn\\ensemble\\_weight_boosting.py:519: FutureWarning: The SAMME.R algorithm (the default) is deprecated and will be removed in 1.6. Use the SAMME algorithm to circumvent this warning.\n",
      "  warnings.warn(\n",
      "c:\\Users\\emili\\OneDrive\\Documentos\\Escuela\\10mo Semestre\\Modelos de Crédito\\Project2_ClassifierModel\\venv\\Lib\\site-packages\\sklearn\\ensemble\\_weight_boosting.py:519: FutureWarning: The SAMME.R algorithm (the default) is deprecated and will be removed in 1.6. Use the SAMME algorithm to circumvent this warning.\n",
      "  warnings.warn(\n",
      "c:\\Users\\emili\\OneDrive\\Documentos\\Escuela\\10mo Semestre\\Modelos de Crédito\\Project2_ClassifierModel\\venv\\Lib\\site-packages\\sklearn\\ensemble\\_weight_boosting.py:519: FutureWarning: The SAMME.R algorithm (the default) is deprecated and will be removed in 1.6. Use the SAMME algorithm to circumvent this warning.\n",
      "  warnings.warn(\n",
      "c:\\Users\\emili\\OneDrive\\Documentos\\Escuela\\10mo Semestre\\Modelos de Crédito\\Project2_ClassifierModel\\venv\\Lib\\site-packages\\sklearn\\ensemble\\_weight_boosting.py:519: FutureWarning: The SAMME.R algorithm (the default) is deprecated and will be removed in 1.6. Use the SAMME algorithm to circumvent this warning.\n",
      "  warnings.warn(\n",
      "c:\\Users\\emili\\OneDrive\\Documentos\\Escuela\\10mo Semestre\\Modelos de Crédito\\Project2_ClassifierModel\\venv\\Lib\\site-packages\\sklearn\\ensemble\\_weight_boosting.py:519: FutureWarning: The SAMME.R algorithm (the default) is deprecated and will be removed in 1.6. Use the SAMME algorithm to circumvent this warning.\n",
      "  warnings.warn(\n",
      "c:\\Users\\emili\\OneDrive\\Documentos\\Escuela\\10mo Semestre\\Modelos de Crédito\\Project2_ClassifierModel\\venv\\Lib\\site-packages\\sklearn\\ensemble\\_weight_boosting.py:519: FutureWarning: The SAMME.R algorithm (the default) is deprecated and will be removed in 1.6. Use the SAMME algorithm to circumvent this warning.\n",
      "  warnings.warn(\n"
     ]
    }
   ],
   "source": [
    "import main as m\n",
    "from visualizations import confusion_matrix"
   ]
  },
  {
   "cell_type": "markdown",
   "metadata": {},
   "source": [
    "<h2 align=left> Results </p>\n",
    "<h3 align=left> Accuracy and Cross validation </h3>\n",
    "<p align=justify> To select the \"best\" model we need to know the performance each model had, in this case we will see the traditional accuracy (True Positives / Total Predictions) and the accuracy calculated with the Cross Validation (is used to detect if there is a problem of overfiting on the model). We can see the metrics of every model. </p>"
   ]
  },
  {
   "cell_type": "code",
   "execution_count": 2,
   "metadata": {},
   "outputs": [
    {
     "data": {
      "text/html": [
       "<div>\n",
       "<style scoped>\n",
       "    .dataframe tbody tr th:only-of-type {\n",
       "        vertical-align: middle;\n",
       "    }\n",
       "\n",
       "    .dataframe tbody tr th {\n",
       "        vertical-align: top;\n",
       "    }\n",
       "\n",
       "    .dataframe thead th {\n",
       "        text-align: right;\n",
       "    }\n",
       "</style>\n",
       "<table border=\"1\" class=\"dataframe\">\n",
       "  <thead>\n",
       "    <tr style=\"text-align: right;\">\n",
       "      <th></th>\n",
       "      <th>Model</th>\n",
       "      <th>Traditional accuracy</th>\n",
       "      <th>Cross validation accuracy</th>\n",
       "      <th>Standard deviation</th>\n",
       "    </tr>\n",
       "  </thead>\n",
       "  <tbody>\n",
       "    <tr>\n",
       "      <th>0</th>\n",
       "      <td>Stack (Decision Tree, Random Forest and Gradie...</td>\n",
       "      <td>0.89028</td>\n",
       "      <td>0.85696</td>\n",
       "      <td>0.005351</td>\n",
       "    </tr>\n",
       "    <tr>\n",
       "      <th>1</th>\n",
       "      <td>Decision Tree</td>\n",
       "      <td>0.85148</td>\n",
       "      <td>0.81328</td>\n",
       "      <td>0.006738</td>\n",
       "    </tr>\n",
       "    <tr>\n",
       "      <th>2</th>\n",
       "      <td>Gradient Boosting</td>\n",
       "      <td>0.83436</td>\n",
       "      <td>0.83296</td>\n",
       "      <td>0.003297</td>\n",
       "    </tr>\n",
       "    <tr>\n",
       "      <th>3</th>\n",
       "      <td>Random Forest</td>\n",
       "      <td>0.88820</td>\n",
       "      <td>0.85792</td>\n",
       "      <td>0.006441</td>\n",
       "    </tr>\n",
       "    <tr>\n",
       "      <th>4</th>\n",
       "      <td>Adaboost</td>\n",
       "      <td>0.82896</td>\n",
       "      <td>0.83100</td>\n",
       "      <td>0.002135</td>\n",
       "    </tr>\n",
       "    <tr>\n",
       "      <th>5</th>\n",
       "      <td>Neural Network (Multi Layer Perceptron)</td>\n",
       "      <td>0.83008</td>\n",
       "      <td>0.82832</td>\n",
       "      <td>0.002753</td>\n",
       "    </tr>\n",
       "  </tbody>\n",
       "</table>\n",
       "</div>"
      ],
      "text/plain": [
       "                                               Model  Traditional accuracy  \\\n",
       "0  Stack (Decision Tree, Random Forest and Gradie...               0.89028   \n",
       "1                                      Decision Tree               0.85148   \n",
       "2                                  Gradient Boosting               0.83436   \n",
       "3                                      Random Forest               0.88820   \n",
       "4                                           Adaboost               0.82896   \n",
       "5            Neural Network (Multi Layer Perceptron)               0.83008   \n",
       "\n",
       "   Cross validation accuracy  Standard deviation  \n",
       "0                    0.85696            0.005351  \n",
       "1                    0.81328            0.006738  \n",
       "2                    0.83296            0.003297  \n",
       "3                    0.85792            0.006441  \n",
       "4                    0.83100            0.002135  \n",
       "5                    0.82832            0.002753  "
      ]
     },
     "execution_count": 2,
     "metadata": {},
     "output_type": "execute_result"
    }
   ],
   "source": [
    "m.metrics"
   ]
  },
  {
   "cell_type": "markdown",
   "metadata": {},
   "source": [
    "<h3 align=left> Confusion Matrix </h3>\n",
    "<p align=justify> Now we can see each model correct and incorrect predictions </p>"
   ]
  },
  {
   "cell_type": "code",
   "execution_count": 4,
   "metadata": {},
   "outputs": [
    {
     "ename": "TypeError",
     "evalue": "confusion_matrix() missing 1 required positional argument: 'title'",
     "output_type": "error",
     "traceback": [
      "\u001b[1;31m---------------------------------------------------------------------------\u001b[0m",
      "\u001b[1;31mTypeError\u001b[0m                                 Traceback (most recent call last)",
      "Cell \u001b[1;32mIn[4], line 3\u001b[0m\n\u001b[0;32m      1\u001b[0m \u001b[38;5;28;01mimport\u001b[39;00m \u001b[38;5;21;01mmatplotlib\u001b[39;00m\u001b[38;5;21;01m.\u001b[39;00m\u001b[38;5;21;01mpyplot\u001b[39;00m \u001b[38;5;28;01mas\u001b[39;00m \u001b[38;5;21;01mplt\u001b[39;00m \n\u001b[0;32m      2\u001b[0m fig, axs \u001b[38;5;241m=\u001b[39m plt\u001b[38;5;241m.\u001b[39msubplots(\u001b[38;5;241m3\u001b[39m,\u001b[38;5;241m2\u001b[39m)\n\u001b[1;32m----> 3\u001b[0m axs[\u001b[38;5;241m0\u001b[39m,\u001b[38;5;241m0\u001b[39m] \u001b[38;5;241m=\u001b[39m \u001b[43mconfusion_matrix\u001b[49m\u001b[43m(\u001b[49m\u001b[43mm\u001b[49m\u001b[38;5;241;43m.\u001b[39;49m\u001b[43my_validation\u001b[49m\u001b[43m,\u001b[49m\u001b[43m \u001b[49m\u001b[43mm\u001b[49m\u001b[38;5;241;43m.\u001b[39;49m\u001b[43my_pred1\u001b[49m\u001b[43m,\u001b[49m\u001b[43m \u001b[49m\u001b[43m[\u001b[49m\u001b[38;5;124;43m'\u001b[39;49m\u001b[38;5;124;43mPoor\u001b[39;49m\u001b[38;5;124;43m'\u001b[39;49m\u001b[43m,\u001b[49m\u001b[38;5;124;43m'\u001b[39;49m\u001b[38;5;124;43mStandard\u001b[39;49m\u001b[38;5;124;43m'\u001b[39;49m\u001b[43m,\u001b[49m\u001b[38;5;124;43m'\u001b[39;49m\u001b[38;5;124;43mGood\u001b[39;49m\u001b[38;5;124;43m'\u001b[39;49m\u001b[43m]\u001b[49m\u001b[43m,\u001b[49m\u001b[38;5;124;43m'\u001b[39;49m\u001b[38;5;124;43mStack (Decision Tree, Random Forest and Gradient Boosting)\u001b[39;49m\u001b[38;5;124;43m'\u001b[39;49m\u001b[43m)\u001b[49m\n\u001b[0;32m      4\u001b[0m axs[\u001b[38;5;241m0\u001b[39m,\u001b[38;5;241m1\u001b[39m]\u001b[38;5;241m=\u001b[39m confusion_matrix(m\u001b[38;5;241m.\u001b[39my_validation, m\u001b[38;5;241m.\u001b[39my_pred2, [\u001b[38;5;124m'\u001b[39m\u001b[38;5;124mPoor\u001b[39m\u001b[38;5;124m'\u001b[39m,\u001b[38;5;124m'\u001b[39m\u001b[38;5;124mStandard\u001b[39m\u001b[38;5;124m'\u001b[39m,\u001b[38;5;124m'\u001b[39m\u001b[38;5;124mGood\u001b[39m\u001b[38;5;124m'\u001b[39m],\u001b[38;5;124m'\u001b[39m\u001b[38;5;124mDecision Tree\u001b[39m\u001b[38;5;124m'\u001b[39m)\n\u001b[0;32m      5\u001b[0m axs[\u001b[38;5;241m1\u001b[39m,\u001b[38;5;241m0\u001b[39m]\u001b[38;5;241m=\u001b[39m confusion_matrix(m\u001b[38;5;241m.\u001b[39my_validation, m\u001b[38;5;241m.\u001b[39my_pred3, [\u001b[38;5;124m'\u001b[39m\u001b[38;5;124mPoor\u001b[39m\u001b[38;5;124m'\u001b[39m,\u001b[38;5;124m'\u001b[39m\u001b[38;5;124mStandard\u001b[39m\u001b[38;5;124m'\u001b[39m,\u001b[38;5;124m'\u001b[39m\u001b[38;5;124mGood\u001b[39m\u001b[38;5;124m'\u001b[39m],\u001b[38;5;124m'\u001b[39m\u001b[38;5;124mGradient Boosting\u001b[39m\u001b[38;5;124m'\u001b[39m)\n",
      "File \u001b[1;32mc:\\Users\\emili\\OneDrive\\Documentos\\Escuela\\10mo Semestre\\Modelos de Crédito\\Project2_ClassifierModel\\visualizations.py:14\u001b[0m, in \u001b[0;36mconfusion_matrix\u001b[1;34m(y, y_pred, labels, title)\u001b[0m\n\u001b[0;32m     13\u001b[0m \u001b[38;5;28;01mdef\u001b[39;00m \u001b[38;5;21mconfusion_matrix\u001b[39m(y, y_pred, labels, title):\n\u001b[1;32m---> 14\u001b[0m     cm \u001b[38;5;241m=\u001b[39m \u001b[43mconfusion_matrix\u001b[49m\u001b[43m(\u001b[49m\u001b[43my\u001b[49m\u001b[43m,\u001b[49m\u001b[43m \u001b[49m\u001b[43my_pred\u001b[49m\u001b[43m,\u001b[49m\u001b[43m \u001b[49m\u001b[43mlabels\u001b[49m\u001b[38;5;241;43m=\u001b[39;49m\u001b[43mlabels\u001b[49m\u001b[43m)\u001b[49m\n\u001b[0;32m     15\u001b[0m     disp \u001b[38;5;241m=\u001b[39m ConfusionMatrixDisplay(confusion_matrix\u001b[38;5;241m=\u001b[39mcm, display_labels\u001b[38;5;241m=\u001b[39mlabels)\n\u001b[0;32m     16\u001b[0m     disp\u001b[38;5;241m.\u001b[39mplot()\n",
      "\u001b[1;31mTypeError\u001b[0m: confusion_matrix() missing 1 required positional argument: 'title'"
     ]
    },
    {
     "data": {
      "image/png": "[encoded data removed]",
      "text/plain": [
       "<Figure size 640x480 with 6 Axes>"
      ]
     },
     "metadata": {},
     "output_type": "display_data"
    }
   ],
   "source": [
    "import matplotlib.pyplot as plt \n",
    "fig, axs = plt.subplots(3,2)\n",
    "axs[0,0] = confusion_matrix(m.y_validation, m.y_pred1, ['Poor','Standard','Good'],'Stack (Decision Tree, Random Forest and Gradient Boosting)')\n",
    "axs[0,1]= confusion_matrix(m.y_validation, m.y_pred2, ['Poor','Standard','Good'],'Decision Tree')\n",
    "axs[1,0]= confusion_matrix(m.y_validation, m.y_pred3, ['Poor','Standard','Good'],'Gradient Boosting')\n",
    "axs[1,1]= confusion_matrix(m.y_validation, m.y_pred4, ['Poor','Standard','Good'],'Random Forest')\n",
    "axs[2,0]= confusion_matrix(m.y_validation, m.y_pred5, ['Poor','Standard','Good'],'Adaboost')\n",
    "axs[2,1] = confusion_matrix(m.y_validation, m.y_pred6, ['Poor','Standard','Good'],'Neural Network (Multi Layer Perceptron)')"
   ]
  },
  {
   "cell_type": "markdown",
   "metadata": {},
   "source": [
    "<h3 align=left> Select the final model </h3>\n",
    "<p align=justify> After comparing the six created models the one that was selected to stay as the final model was the Stack (Decision Tree, Random Forest and Gradient Boosting) Classifier, so now we can se the predictions that it made on the test datasample that we have. </p>"
   ]
  },
  {
   "cell_type": "code",
   "execution_count": null,
   "metadata": {},
   "outputs": [],
   "source": [
    "m.test.head(10)"
   ]
  },
  {
   "cell_type": "markdown",
   "metadata": {},
   "source": [
    "<h2 align=left> Conclusions </h2>"
   ]
  }
 ],
 "metadata": {
  "kernelspec": {
   "display_name": "Python 3",
   "language": "python",
   "name": "python3"
  },
  "language_info": {
   "codemirror_mode": {
    "name": "ipython",
    "version": 3
   },
   "file_extension": ".py",
   "mimetype": "text/x-python",
   "name": "python",
   "nbconvert_exporter": "python",
   "pygments_lexer": "ipython3",
   "version": "3.11.9"
  }
 },
 "nbformat": 4,
 "nbformat_minor": 2
}
